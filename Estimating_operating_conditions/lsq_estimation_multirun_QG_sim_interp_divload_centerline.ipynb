{
 "cells": [
  {
   "cell_type": "code",
   "execution_count": 1,
   "metadata": {},
   "source": [
    "% load centerline data and perform Jacobian calculation\n",
    "clear;\n",
    "close all;\n",
    "\n",
    "G_solution = 4215; % INPUT\n",
    "heat_flux_source = 852*1000; % INPUT [W/m2]\n",
    "T_inlet_uniform = 300; % [K]"
   ],
   "outputs": []
  },
  {
   "cell_type": "markdown",
   "metadata": {},
   "source": [
    "## load data for 3d temperature profile"
   ]
  },
  {
   "cell_type": "code",
   "execution_count": 2,
   "metadata": {},
   "source": [
    "digit_thousands = floor(G_solution/1000);\n",
    "digit_hundreds = floor((G_solution - digit_thousands*1000)/100);\n",
    "digit_tens= floor((G_solution - digit_thousands*1000 - digit_hundreds*100)/10);\n",
    "digit_ones= floor(G_solution - digit_thousands*1000 - digit_hundreds*100 - digit_tens*10);\n",
    "inputname1      = ['./divisions_A_matrix/divisions_A_' num2str(digit_thousands) '' num2str(digit_hundreds) '' num2str(digit_tens) '' num2str(digit_ones) '.mat'];\n",
    "load(inputname1,'A_div_L_qbcs1');\n",
    "\n",
    "% calculate 3d temperature profile\n",
    "T_steady = A_div_L_qbcs1*heat_flux_source + T_inlet_uniform;"
   ],
   "outputs": []
  },
  {
   "cell_type": "markdown",
   "metadata": {},
   "source": [
    "## number grid"
   ]
  },
  {
   "cell_type": "code",
   "execution_count": 3,
   "metadata": {},
   "source": [
    "N_x_1 = 300+1; % INPUT total number of liquid grid points (including both ends) in x-direction\n",
    "N_z = 100+1; % INPUT number of grid points (including both ends: inlet and outlet) in z-direction\n",
    "N_x_2 = 40+1; % INPUT for solid substrate (including both ends: interface and outer wall)\n",
    "N_x_tot = N_x_1 + N_x_2 - 1;\n",
    "N_y = 19; % INPUT number of grid points in width direction"
   ],
   "outputs": []
  },
  {
   "cell_type": "markdown",
   "metadata": {},
   "source": [
    "## INPUT sensor index (size: number sensor\\*3)"
   ]
  },
  {
   "cell_type": "code",
   "execution_count": 4,
   "metadata": {},
   "source": [
    "% sensor_user_input = zeros(N_z-1,3); sensor_user_input(:,1) = 2:N_z; sensor_user_input(:,2) = N_x_1; sensor_user_input(:,3) = 1; % sensors all grid\n",
    "% sensor_user_input = zeros(N_z-38,3); sensor_user_input(:,1) = 19:N_z-20; sensor_user_input(:,2) = N_x_1; sensor_user_input(:,3) = 1; % sensors all exp\n",
    "sensor_user_input = [44,N_x_1,1; 72,N_x_1,1]; % 2 sensors"
   ],
   "outputs": []
  },
  {
   "cell_type": "markdown",
   "metadata": {},
   "source": [
    "## Phi: sensor index within the grid"
   ]
  },
  {
   "cell_type": "code",
   "execution_count": 5,
   "metadata": {},
   "source": [
    "sensor_index_z = sensor_user_input(:,1);\n",
    "sensor_index_x = sensor_user_input(:,2);\n",
    "sensor_index_y = sensor_user_input(:,3);\n",
    "number_sensor = length(sensor_index_z);\n",
    "sensor_index = sensor_index_z + (sensor_index_x-1)*N_z + (sensor_index_y-1)*N_z*N_x_tot; %\n",
    "\n",
    "Phi_location_sensor = sparse(number_sensor, N_x_tot*N_z*N_y); % within\n",
    "Phi_location_sensor_z = zeros(number_sensor, N_z);\n",
    "for ids=1:size(sensor_index, 1)\n",
    "    Phi_location_sensor(ids, sensor_index(ids)) = 1;\n",
    "    Phi_location_sensor_z(ids, sensor_index_z(ids)) = 1;\n",
    "end"
   ],
   "outputs": []
  },
  {
   "cell_type": "markdown",
   "metadata": {},
   "source": [
    "## generate artificial noise"
   ]
  },
  {
   "cell_type": "code",
   "execution_count": 6,
   "metadata": {},
   "source": [
    "rng('default')\n",
    "T_sigma = 0.1; % INPUT [K] noise magnitude\n",
    "M_samples = 300; % INPUT different case of noise\n",
    "T_sensing_samples = zeros(number_sensor, M_samples); % [K] column matrix\n",
    "T_sensing_samples = repmat(T_steady(sensor_index),1,M_samples) + normrnd(0, T_sigma, [number_sensor, M_samples]);"
   ],
   "outputs": []
  },
  {
   "cell_type": "markdown",
   "metadata": {},
   "source": [
    "## to save result"
   ]
  },
  {
   "cell_type": "code",
   "execution_count": 7,
   "metadata": {},
   "source": [
    "G_samples = zeros(M_samples, 1); % store result\n",
    "heat_flux_scalar_samples = zeros(M_samples, 1);\n",
    "T_centerline_samples = zeros(N_z, M_samples);"
   ],
   "outputs": []
  },
  {
   "cell_type": "markdown",
   "metadata": {},
   "source": [
    "## generate samples of result"
   ]
  },
  {
   "cell_type": "code",
   "execution_count": 8,
   "metadata": {},
   "source": [
    "for m=1:M_samples\n",
    "    fprintf('samples %d / %d \\n', m, M_samples);"
   ],
   "outputs": [
    {
     "data": {
      "text/plain": [
       "samples 1 / 300 \n",
       "samples 2 / 300 \n",
       "samples 3 / 300 \n",
       "samples 4 / 300 \n",
       "samples 5 / 300 \n",
       "samples 6 / 300 \n",
       "samples 7 / 300 \n",
       "samples 8 / 300 \n",
       "samples 9 / 300 \n",
       "samples 10 / 300 \n",
       "samples 11 / 300 \n",
       "samples 12 / 300 \n",
       "samples 13 / 300 \n",
       "samples 14 / 300 \n",
       "samples 15 / 300 \n",
       "samples 16 / 300 \n",
       "samples 17 / 300 \n",
       "samples 18 / 300 \n",
       "samples 19 / 300 \n",
       "samples 20 / 300 \n",
       "samples 21 / 300 \n",
       "samples 22 / 300 \n",
       "samples 23 / 300 \n",
       "samples 24 / 300 \n",
       "samples 25 / 300 \n",
       "samples 26 / 300 \n",
       "samples 27 / 300 \n",
       "samples 28 / 300 \n",
       "samples 29 / 300 \n",
       "samples 30 / 300 \n",
       "samples 31 / 300 \n",
       "samples 32 / 300 \n",
       "samples 33 / 300 \n",
       "samples 34 / 300 \n",
       "samples 35 / 300 \n",
       "samples 36 / 300 \n",
       "samples 37 / 300 \n",
       "samples 38 / 300 \n",
       "samples 39 / 300 \n",
       "samples 40 / 300 \n",
       "samples 41 / 300 \n",
       "samples 42 / 300 \n",
       "samples 43 / 300 \n",
       "samples 44 / 300 \n",
       "samples 45 / 300 \n",
       "samples 46 / 300 \n",
       "samples 47 / 300 \n",
       "samples 48 / 300 \n",
       "samples 49 / 300 \n",
       "samples 50 / 300 \n",
       "samples 51 / 300 \n",
       "samples 52 / 300 \n",
       "samples 53 / 300 \n",
       "samples 54 / 300 \n",
       "samples 55 / 300 \n",
       "samples 56 / 300 \n",
       "samples 57 / 300 \n",
       "samples 58 / 300 \n",
       "samples 59 / 300 \n",
       "samples 60 / 300 \n",
       "samples 61 / 300 \n",
       "samples 62 / 300 \n",
       "samples 63 / 300 \n",
       "samples 64 / 300 \n",
       "samples 65 / 300 \n",
       "samples 66 / 300 \n",
       "samples 67 / 300 \n",
       "samples 68 / 300 \n",
       "samples 69 / 300 \n",
       "samples 70 / 300 \n",
       "samples 71 / 300 \n",
       "samples 72 / 300 \n",
       "samples 73 / 300 \n",
       "samples 74 / 300 \n",
       "samples 75 / 300 \n",
       "samples 76 / 300 \n",
       "samples 77 / 300 \n",
       "samples 78 / 300 \n",
       "samples 79 / 300 \n",
       "samples 80 / 300 \n",
       "samples 81 / 300 \n",
       "samples 82 / 300 \n",
       "samples 83 / 300 \n",
       "samples 84 / 300 \n",
       "samples 85 / 300 \n",
       "samples 86 / 300 \n",
       "samples 87 / 300 \n",
       "samples 88 / 300 \n",
       "samples 89 / 300 \n",
       "samples 90 / 300 \n",
       "samples 91 / 300 \n",
       "samples 92 / 300 \n",
       "samples 93 / 300 \n",
       "samples 94 / 300 \n",
       "samples 95 / 300 \n",
       "samples 96 / 300 \n",
       "samples 97 / 300 \n",
       "samples 98 / 300 \n",
       "samples 99 / 300 \n",
       "samples 100 / 300 \n",
       "samples 101 / 300 \n",
       "samples 102 / 300 \n",
       "samples 103 / 300 \n",
       "samples 104 / 300 \n",
       "samples 105 / 300 \n",
       "samples 106 / 300 \n",
       "samples 107 / 300 \n",
       "samples 108 / 300 \n",
       "samples 109 / 300 \n",
       "samples 110 / 300 \n",
       "samples 111 / 300 \n",
       "samples 112 / 300 \n",
       "samples 113 / 300 \n",
       "samples 114 / 300 \n",
       "samples 115 / 300 \n",
       "samples 116 / 300 \n",
       "samples 117 / 300 \n",
       "samples 118 / 300 \n",
       "samples 119 / 300 \n",
       "samples 120 / 300 \n",
       "samples 121 / 300 \n",
       "samples 122 / 300 \n",
       "samples 123 / 300 \n",
       "samples 124 / 300 \n",
       "samples 125 / 300 \n",
       "samples 126 / 300 \n",
       "samples 127 / 300 \n",
       "samples 128 / 300 \n",
       "samples 129 / 300 \n",
       "samples 130 / 300 \n",
       "samples 131 / 300 \n",
       "samples 132 / 300 \n",
       "samples 133 / 300 \n",
       "samples 134 / 300 \n",
       "samples 135 / 300 \n",
       "samples 136 / 300 \n",
       "samples 137 / 300 \n",
       "samples 138 / 300 \n",
       "samples 139 / 300 \n",
       "samples 140 / 300 \n",
       "samples 141 / 300 \n",
       "samples 142 / 300 \n",
       "samples 143 / 300 \n",
       "samples 144 / 300 \n",
       "samples 145 / 300 \n",
       "samples 146 / 300 \n",
       "samples 147 / 300 \n",
       "samples 148 / 300 \n",
       "samples 149 / 300 \n",
       "samples 150 / 300 \n",
       "samples 151 / 300 \n",
       "samples 152 / 300 \n",
       "samples 153 / 300 \n",
       "samples 154 / 300 \n",
       "samples 155 / 300 \n",
       "samples 156 / 300 \n",
       "samples 157 / 300 \n",
       "samples 158 / 300 \n",
       "samples 159 / 300 \n",
       "samples 160 / 300 \n",
       "samples 161 / 300 \n",
       "samples 162 / 300 \n",
       "samples 163 / 300 \n",
       "samples 164 / 300 \n",
       "samples 165 / 300 \n",
       "samples 166 / 300 \n",
       "samples 167 / 300 \n",
       "samples 168 / 300 \n",
       "samples 169 / 300 \n",
       "samples 170 / 300 \n",
       "samples 171 / 300 \n",
       "samples 172 / 300 \n",
       "samples 173 / 300 \n",
       "samples 174 / 300 \n",
       "samples 175 / 300 \n",
       "samples 176 / 300 \n",
       "samples 177 / 300 \n",
       "samples 178 / 300 \n",
       "samples 179 / 300 \n",
       "samples 180 / 300 \n",
       "samples 181 / 300 \n",
       "samples 182 / 300 \n",
       "samples 183 / 300 \n",
       "samples 184 / 300 \n",
       "samples 185 / 300 \n",
       "samples 186 / 300 \n",
       "samples 187 / 300 \n",
       "samples 188 / 300 \n",
       "samples 189 / 300 \n",
       "samples 190 / 300 \n",
       "samples 191 / 300 \n",
       "samples 192 / 300 \n",
       "samples 193 / 300 \n",
       "samples 194 / 300 \n",
       "samples 195 / 300 \n",
       "samples 196 / 300 \n",
       "samples 197 / 300 \n",
       "samples 198 / 300 \n",
       "samples 199 / 300 \n",
       "samples 200 / 300 \n",
       "samples 201 / 300 \n",
       "samples 202 / 300 \n",
       "samples 203 / 300 \n",
       "samples 204 / 300 \n",
       "samples 205 / 300 \n",
       "samples 206 / 300 \n",
       "samples 207 / 300 \n",
       "samples 208 / 300 \n",
       "samples 209 / 300 \n",
       "samples 210 / 300 \n",
       "samples 211 / 300 \n",
       "samples 212 / 300 \n",
       "samples 213 / 300 \n",
       "samples 214 / 300 \n",
       "samples 215 / 300 \n",
       "samples 216 / 300 \n",
       "samples 217 / 300 \n",
       "samples 218 / 300 \n",
       "samples 219 / 300 \n",
       "samples 220 / 300 \n",
       "samples 221 / 300 \n",
       "samples 222 / 300 \n",
       "samples 223 / 300 \n",
       "samples 224 / 300 \n",
       "samples 225 / 300 \n",
       "samples 226 / 300 \n",
       "samples 227 / 300 \n",
       "samples 228 / 300 \n",
       "samples 229 / 300 \n",
       "samples 230 / 300 \n",
       "samples 231 / 300 \n",
       "samples 232 / 300 \n",
       "samples 233 / 300 \n",
       "samples 234 / 300 \n",
       "samples 235 / 300 \n",
       "samples 236 / 300 \n",
       "samples 237 / 300 \n",
       "samples 238 / 300 \n",
       "samples 239 / 300 \n",
       "samples 240 / 300 \n",
       "samples 241 / 300 \n",
       "samples 242 / 300 \n",
       "samples 243 / 300 \n",
       "samples 244 / 300 \n",
       "samples 245 / 300 \n",
       "samples 246 / 300 \n",
       "samples 247 / 300 \n",
       "samples 248 / 300 \n",
       "samples 249 / 300 \n",
       "samples 250 / 300 \n",
       "samples 251 / 300 \n",
       "samples 252 / 300 \n",
       "samples 253 / 300 \n",
       "samples 254 / 300 \n",
       "samples 255 / 300 \n",
       "samples 256 / 300 \n",
       "samples 257 / 300 \n",
       "samples 258 / 300 \n",
       "samples 259 / 300 \n",
       "samples 260 / 300 \n",
       "samples 261 / 300 \n",
       "samples 262 / 300 \n",
       "samples 263 / 300 \n",
       "samples 264 / 300 \n",
       "samples 265 / 300 \n",
       "samples 266 / 300 \n",
       "samples 267 / 300 \n",
       "samples 268 / 300 \n",
       "samples 269 / 300 \n",
       "samples 270 / 300 \n",
       "samples 271 / 300 \n",
       "samples 272 / 300 \n",
       "samples 273 / 300 \n",
       "samples 274 / 300 \n",
       "samples 275 / 300 \n",
       "samples 276 / 300 \n",
       "samples 277 / 300 \n",
       "samples 278 / 300 \n",
       "samples 279 / 300 \n",
       "samples 280 / 300 \n",
       "samples 281 / 300 \n",
       "samples 282 / 300 \n",
       "samples 283 / 300 \n",
       "samples 284 / 300 \n",
       "samples 285 / 300 \n",
       "samples 286 / 300 \n",
       "samples 287 / 300 \n",
       "samples 288 / 300 \n",
       "samples 289 / 300 \n",
       "samples 290 / 300 \n",
       "samples 291 / 300 \n",
       "samples 292 / 300 \n",
       "samples 293 / 300 \n",
       "samples 294 / 300 \n",
       "samples 295 / 300 \n",
       "samples 296 / 300 \n",
       "samples 297 / 300 \n",
       "samples 298 / 300 \n",
       "samples 299 / 300 \n",
       "samples 300 / 300"
      ]
     },
     "metadata": {},
     "execution_count":  8,
     "output_type": "execute_result"
    }
   ]
  },
  {
   "cell_type": "markdown",
   "metadata": {},
   "source": [
    "## Make guess on G and heat source strength"
   ]
  },
  {
   "cell_type": "code",
   "execution_count": 9,
   "metadata": {},
   "source": [
    "    G_guess = G_solution; % [kg/m2/s]\n",
    "    heat_flux_scalar_guess = heat_flux_source; % [W/m2]\n",
    "    G_next = G_guess; % initialization\n",
    "    heat_flux_scalar_next = heat_flux_scalar_guess; % initialization\n",
    "    a_step = 0.5; % (hyperparameter) step size for stability\n",
    "\n",
    "    n_iteration = 30;\n",
    "    Jacobian_save = zeros(length(sensor_index), 2, n_iteration); % meas, parm, iter\n",
    "    a_vector_save = zeros(length(sensor_index), n_iteration);\n",
    "    G_guess_save = zeros(n_iteration); % history\n",
    "    heat_flux_scalar_guess_save = zeros(n_iteration);\n",
    "\n",
    "    % fprintf('original sol.: Q=%.3e, G=%.3e\\n', heat_flux_source, G_solution);\n",
    "    % fprintf('initial guess: Q=%.3e, G=%.3e, step size=%d\\n', heat_flux_scalar_guess, G_guess, a_step);\n",
    "\n",
    "for itr=1:n_iteration\n",
    "    G_guess_save(itr) = G_guess;\n",
    "    heat_flux_scalar_guess_save(itr) = heat_flux_scalar_guess;"
   ],
   "outputs": []
  },
  {
   "cell_type": "markdown",
   "metadata": {},
   "source": [
    "## load precomputed calculations"
   ]
  },
  {
   "cell_type": "code",
   "execution_count": 10,
   "metadata": {},
   "source": [
    "    G_guess_floor = floor(G_guess/10)*10;\n",
    "    digit_thousands = floor(G_guess_floor/1000);\n",
    "    digit_hundreds = floor((G_guess_floor - digit_thousands*1000)/100);\n",
    "    digit_tens= floor((G_guess_floor - digit_thousands*1000 - digit_hundreds*100)/10);\n",
    "    digit_ones= floor(G_guess_floor - digit_thousands*1000 - digit_hundreds*100 - digit_tens*10);\n",
    "    inputname3      = ['./divisions_A_matrix_centerline/centerline_divisions_A_' num2str(digit_thousands) '' num2str(digit_hundreds) '' num2str(digit_tens) '' num2str(digit_ones) '.mat'];\n",
    "\n",
    "    load(inputname3,'centerline_A_div_L_qbcs1','centerline_A_div_A_conv_A_div_L_qbcs1','centerline_A_div_A_conv_A_div_L_Tbcs');\n",
    "    f_10floor = [centerline_A_div_L_qbcs1, centerline_A_div_A_conv_A_div_L_qbcs1, centerline_A_div_A_conv_A_div_L_Tbcs];\n",
    "\n",
    "    G_guess_ceil = ceil(G_guess/10)*10;\n",
    "    digit_thousands = floor(G_guess_ceil/1000);\n",
    "    digit_hundreds = floor((G_guess_ceil - digit_thousands*1000)/100);\n",
    "    digit_tens= floor((G_guess_ceil - digit_thousands*1000 - digit_hundreds*100)/10);\n",
    "    digit_ones= floor(G_guess_ceil - digit_thousands*1000 - digit_hundreds*100 - digit_tens*10);\n",
    "    inputname4      = ['./divisions_A_matrix_centerline/centerline_divisions_A_' num2str(digit_thousands) '' num2str(digit_hundreds) '' num2str(digit_tens) '' num2str(digit_ones) '.mat'];\n",
    "\n",
    "    load(inputname4,'centerline_A_div_L_qbcs1','centerline_A_div_A_conv_A_div_L_qbcs1','centerline_A_div_A_conv_A_div_L_Tbcs');\n",
    "    f_10ceil = [centerline_A_div_L_qbcs1, centerline_A_div_A_conv_A_div_L_qbcs1, centerline_A_div_A_conv_A_div_L_Tbcs];\n",
    "\n",
    "    if G_guess == G_guess_floor % no interpolation\n",
    "        centerline_A_div_L_qbcs1 = f_10floor(:,1);\n",
    "        centerline_A_div_A_conv_A_div_L_qbcs1 = f_10floor(:,2);\n",
    "        centerline_A_div_A_conv_A_div_L_Tbcs = f_10floor(:,3);\n",
    "    else % interpolation\n",
    "        f_interp = f_10floor + (f_10ceil-f_10floor)/(G_guess_ceil-G_guess_floor)*(G_guess-G_guess_floor);\n",
    "        centerline_A_div_L_qbcs1 = f_interp(:,1);\n",
    "        centerline_A_div_A_conv_A_div_L_qbcs1 = f_interp(:,2);\n",
    "        centerline_A_div_A_conv_A_div_L_Tbcs = f_interp(:,3);\n",
    "    end"
   ],
   "outputs": []
  },
  {
   "cell_type": "markdown",
   "metadata": {},
   "source": [
    "## centerline temperature and sensing"
   ]
  },
  {
   "cell_type": "code",
   "execution_count": 11,
   "metadata": {},
   "source": [
    "    T_centerline_guess = centerline_A_div_L_qbcs1*heat_flux_scalar_guess + T_inlet_uniform;\n",
    "    T_sensing_guess = zeros(number_sensor, 1); % [K] column matrix\n",
    "    T_sensing_guess = T_centerline_guess(sensor_index_z);"
   ],
   "outputs": []
  },
  {
   "cell_type": "markdown",
   "metadata": {},
   "source": [
    "## feature measurement\n",
    "\n",
    "temperature difference between calculation and data\n",
    ""
   ]
  },
  {
   "cell_type": "code",
   "execution_count": 12,
   "metadata": {},
   "source": [
    "    a_vector = T_sensing_guess - T_sensing_samples(:,m);\n",
    "    % change of parameters (from Q and G)\n",
    "    b_vector1 = Phi_location_sensor_z*centerline_A_div_L_qbcs1;\n",
    "    b_vector2 = -(7/8/G_guess)*Phi_location_sensor_z*(centerline_A_div_A_conv_A_div_L_qbcs1*heat_flux_scalar_guess + centerline_A_div_A_conv_A_div_L_Tbcs);"
   ],
   "outputs": []
  },
  {
   "cell_type": "markdown",
   "metadata": {},
   "source": [
    "## Jacobian matrix and update parameter"
   ]
  },
  {
   "cell_type": "code",
   "execution_count": 13,
   "metadata": {},
   "source": [
    "    Jacobian = [b_vector1, b_vector2];\n",
    "    Jacobian_save(:,:,itr) = Jacobian;\n",
    "    a_vector_save(:,itr) = a_vector;\n",
    "\n",
    "    p_guess = [heat_flux_scalar_guess; G_guess];\n",
    "    p_next = p_guess - a_step*pinv(Jacobian)*(a_vector);\n",
    "\n",
    "    heat_flux_scalar_next = p_next(1);\n",
    "    G_next = p_next(2);"
   ],
   "outputs": []
  },
  {
   "cell_type": "markdown",
   "metadata": {},
   "source": [
    "## for next iteration"
   ]
  },
  {
   "cell_type": "code",
   "execution_count": 14,
   "metadata": {},
   "source": [
    "    % fprintf('iteration #%d: Q=%.3e, G=%.3e\\n', itr, heat_flux_scalar_next, G_next);\n",
    "\n",
    "    if abs(G_next-G_guess) < 1 && abs(heat_flux_scalar_guess-heat_flux_scalar_next) < 100 % stopping criteria\n",
    "     % fprintf('stopping criteria: G and Q converged.\\n');\n",
    "        break;\n",
    "    else\n",
    "        heat_flux_scalar_guess = heat_flux_scalar_next;\n",
    "        G_guess = G_next;\n",
    "    end\n",
    "end\n",
    "if itr == n_iteration\n",
    "    % fprintf('stopping criteria: set number of iteration. \\n');\n",
    "end"
   ],
   "outputs": []
  },
  {
   "cell_type": "markdown",
   "metadata": {},
   "source": [
    "## save result"
   ]
  },
  {
   "cell_type": "code",
   "execution_count": 15,
   "metadata": {},
   "source": [
    "T_centerline_samples(:,m) = T_centerline_guess;\n",
    "G_samples(m) = G_guess;\n",
    "heat_flux_scalar_samples(m) = heat_flux_scalar_guess;\n",
    "end"
   ],
   "outputs": []
  },
  {
   "cell_type": "markdown",
   "metadata": {},
   "source": [
    "## analytical calculations"
   ]
  },
  {
   "cell_type": "code",
   "execution_count": 16,
   "metadata": {},
   "source": [
    "G_solution_floor = floor(G_solution/10)*10;\n",
    "digit_thousands = floor(G_solution_floor/1000);\n",
    "digit_hundreds = floor((G_solution_floor - digit_thousands*1000)/100);\n",
    "digit_tens= floor((G_solution_floor - digit_thousands*1000 - digit_hundreds*100)/10);\n",
    "digit_ones= floor(G_solution_floor - digit_thousands*1000 - digit_hundreds*100 - digit_tens*10);\n",
    "inputname3      = ['./divisions_A_matrix_centerline/centerline_divisions_A_' num2str(digit_thousands) '' num2str(digit_hundreds) '' num2str(digit_tens) '' num2str(digit_ones) '.mat'];\n",
    "load(inputname3,'centerline_A_div_L_qbcs1');\n",
    "centerline_A_div_L_qbcs1_10floor = centerline_A_div_L_qbcs1;\n",
    "T_centerline_10floor = centerline_A_div_L_qbcs1*heat_flux_source + T_inlet_uniform;\n",
    "T_sensing_10floor = Phi_location_sensor_z*T_centerline_10floor;\n",
    "\n",
    "G_solution_ceil = ceil(G_solution/10 + sqrt(eps))*10;\n",
    "digit_thousands = floor(G_solution_ceil/1000);\n",
    "digit_hundreds = floor((G_solution_ceil - digit_thousands*1000)/100);\n",
    "digit_tens= floor((G_solution_ceil - digit_thousands*1000 - digit_hundreds*100)/10);\n",
    "digit_ones= floor(G_solution_ceil - digit_thousands*1000 - digit_hundreds*100 - digit_tens*10);\n",
    "inputname4      = ['./divisions_A_matrix_centerline/centerline_divisions_A_' num2str(digit_thousands) '' num2str(digit_hundreds) '' num2str(digit_tens) '' num2str(digit_ones) '.mat'];\n",
    "load(inputname4,'centerline_A_div_L_qbcs1');\n",
    "centerline_A_div_L_qbcs1_10ceil = centerline_A_div_L_qbcs1;\n",
    "T_centerline_10ceil = centerline_A_div_L_qbcs1*heat_flux_source + T_inlet_uniform;\n",
    "T_sensing_10ceil = Phi_location_sensor_z*T_centerline_10ceil;\n",
    "\n",
    "if G_solution == G_solution_floor % no interpolation\n",
    "    centerline_A_div_L_qbcs1 = centerline_A_div_L_qbcs1_10floor;\n",
    "else % interpolation\n",
    "    centerline_A_div_L_qbcs1 = centerline_A_div_L_qbcs1_10floor + (centerline_A_div_L_qbcs1_10ceil-centerline_A_div_L_qbcs1_10floor)/(G_solution_ceil-G_solution_floor)*(G_solution-G_solution_floor);\n",
    "end"
   ],
   "outputs": []
  },
  {
   "cell_type": "markdown",
   "metadata": {},
   "source": [
    "## derivation of noise ellipse"
   ]
  },
  {
   "cell_type": "code",
   "execution_count": 17,
   "metadata": {},
   "source": [
    "b_vector1 = Phi_location_sensor_z*centerline_A_div_L_qbcs1;\n",
    "b_vector2 = (T_sensing_10ceil - T_sensing_10floor)/10;\n",
    "\n",
    "T_noise_sigma = 0.1; % INPUT\n",
    "H = zeros(number_sensor, 2); % 2 is number of parameter\n",
    "\n",
    "H(:,1) = b_vector1*1000; % first column for Q[kW]\n",
    "H(:,2) = b_vector2; % second column for G\n",
    "cov_estimate = T_noise_sigma^2*inv(H'*H); % covariance\n",
    "% ellipse of confidence bound\n",
    "confidence_interval = 0.95; % INPUT confidence interval\n",
    "scale_ellipsoid = -2*log(1 - confidence_interval); % equal to chi2inv(p, 2)\n",
    "[eig_vector, eig_diag] = eig(cov_estimate * scale_ellipsoid); % eig_vector gives axis of ellipsoid\n",
    "[eig_diag, order] = sort(diag(eig_diag), 'descend');\n",
    "eig_diag = diag(eig_diag);\n",
    "eig_vector = eig_vector(:, order);\n",
    "\n",
    "plot_angles = linspace(0, 2*pi);\n",
    "plot_ellipsoid = (eig_vector * sqrt(eig_diag)) * [cos(plot_angles(:))'; sin(plot_angles(:))'];\n",
    "\n",
    "dQ_ellipsoid = plot_ellipsoid(1,1)*1000; % [W] max change\n",
    "dG_ellipsoid = plot_ellipsoid(2,1); % max change"
   ],
   "outputs": []
  },
  {
   "cell_type": "markdown",
   "metadata": {},
   "source": [
    "## pdf for G and Q\n",
    "\n",
    "analytical pdf expression for G and Q\n",
    ""
   ]
  },
  {
   "cell_type": "code",
   "execution_count": 18,
   "metadata": {},
   "source": [
    "sigma_Q = sqrt(cov_estimate(1, 1));  % Standard deviation of Q [kW/m2]\n",
    "sigma_G = sqrt(cov_estimate(2, 2));  % Standard deviation of G [kg/m2/s]\n",
    "\n",
    "% Mean values of G and Q (you should already have these from your data)\n",
    "mu_Q = heat_flux_source/1000;  % Mean of Q [kW/m2]\n",
    "mu_G = G_solution;  % Mean of G\n",
    "\n",
    "% Define the range for G and Q based on the sample data\n",
    "x_Q = linspace(min(heat_flux_scalar_samples/1000), max(heat_flux_scalar_samples/1000), 100);  % 100 points for Q\n",
    "x_G = linspace(min(G_samples), max(G_samples), 100);  % 100 points for G\n",
    "\n",
    "% Compute the PDF of G and Q using the Gaussian formula\n",
    "pdf_Q = (1 / sqrt(2 * pi * sigma_Q^2)) * exp(-(x_Q - mu_Q).^2 / (2 * sigma_Q^2));\n",
    "pdf_G = (1 / sqrt(2 * pi * sigma_G^2)) * exp(-(x_G - mu_G).^2 / (2 * sigma_G^2));"
   ],
   "outputs": []
  },
  {
   "cell_type": "markdown",
   "metadata": {},
   "source": [
    "## plot result"
   ]
  },
  {
   "cell_type": "code",
   "execution_count": 19,
   "metadata": {},
   "source": [
    "figure(1)\n",
    "set(gcf, 'WindowState', 'maximized');\n",
    "% subplot(2, 2, [1,3])\n",
    "scatter(heat_flux_scalar_samples/1000, G_samples, 'o','Linewidth',2,'displayname', strcat(' sampled results: σ = ',num2str(T_sigma),' K'))\n",
    "hold on\n",
    "scatter(heat_flux_source/1000, G_solution, 50,'filled','displayname',' mean estimation')\n",
    "hold on\n",
    "plot(heat_flux_source/1000 + plot_ellipsoid(1, :), G_solution + plot_ellipsoid(2, :),'-', 'Linewidth', 3,'displayname',' covariance (Σ) ellipse (2 sigma confidence)','color','#D95319');\n",
    "legend('show','location','northwest')\n",
    "title('Parameter space')\n",
    "ylabel('G [kg/m^2/s]')\n",
    "xlabel('q\" [kW/m^2]')\n",
    "set(gca,'FontSize',14,'fontname','times')\n",
    "grid on\n",
    "grid minor"
   ],
   "outputs": [
    {
     "data": {
      "text/html": [
       "<center><img src=\"data:image/png;base64,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\" width=\"462\" alt=\"figure_0.png\"></center>"
      ]
     },
     "metadata": {},
     "execution_count":  19,
     "output_type": "execute_result"
    }
   ]
  },
  {
   "cell_type": "code",
   "execution_count": 20,
   "metadata": {},
   "source": [
    "\n",
    "figure(2)\n",
    "set(gcf, 'WindowState', 'maximized');\n",
    "% Q (heat flux) histogram and PDF\n",
    "% subplot(2, 2, 2);\n",
    "histogram(heat_flux_scalar_samples/1000, 30, 'Normalization', 'pdf','displayname',' samples');\n",
    "hold on\n",
    "plot(x_Q, pdf_Q, 'r-', 'LineWidth', 2,'displayname', strcat(' σ_{q\"} = ', num2str(sigma_Q, '%.0f'),' kW/m^2'));\n",
    "legend('show','location','northeast')\n",
    "xlabel('q\" [kW/m^2]');\n",
    "ylabel('pdf [-]');\n",
    "title('Heat Flux with PDF Overlay');\n",
    "set(gca,'FontSize',14,'fontname','times')\n",
    "grid on\n",
    "grid minor"
   ],
   "outputs": [
    {
     "data": {
      "text/html": [
       "<center><img src=\"data:image/png;base64,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\" width=\"462\" alt=\"figure_1.png\"></center>"
      ]
     },
     "metadata": {},
     "execution_count":  20,
     "output_type": "execute_result"
    }
   ]
  },
  {
   "cell_type": "code",
   "execution_count": 21,
   "metadata": {},
   "source": [
    "\n",
    "figure(3)\n",
    "set(gcf, 'WindowState', 'maximized');\n",
    "% G histogram and PDF\n",
    "% subplot(2, 2, 4);\n",
    "histogram(G_samples, 30, 'Normalization', 'pdf','displayname',' samples');\n",
    "hold on\n",
    "plot(x_G, pdf_G, 'b-', 'LineWidth', 2,'displayname', strcat(' σ_{G} = ', num2str(sigma_G, '%.0f'),' kg/m^2/s'));\n",
    "legend('show','location','northeast')\n",
    "xlabel('G [kg/m^2/s]');\n",
    "ylabel('pdf [-]');\n",
    "title('G with PDF Overlay');\n",
    "set(gca,'FontSize',14,'fontname','times')\n",
    "grid on\n",
    "grid minor"
   ],
   "outputs": [
    {
     "data": {
      "text/html": [
       "<center><img src=\"data:image/png;base64,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\" width=\"462\" alt=\"figure_2.png\"></center>"
      ]
     },
     "metadata": {},
     "execution_count":  21,
     "output_type": "execute_result"
    }
   ]
  }
 ],
 "metadata": {
  "kernelspec": {
   "display_name": "MATLAB (matlabkernel)",
   "language": "matlab",
   "name": "matlab"
  },
  "language_info": {
   "file_extension": ".m",
   "mimetype": "text/matlab",
   "name": "matlab",
   "nbconvert_exporter": "matlab",
   "pygments_lexer": "matlab",
   "version": "24.2.0.2806996"
  }
 },
 "nbformat": 4,
 "nbformat_minor": 4
}